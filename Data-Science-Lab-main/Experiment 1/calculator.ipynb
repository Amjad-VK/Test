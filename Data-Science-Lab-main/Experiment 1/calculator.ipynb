{
 "cells": [
  {
   "cell_type": "code",
   "execution_count": 1,
   "metadata": {},
   "outputs": [
    {
     "name": "stdout",
     "output_type": "stream",
     "text": [
      "Enter First Number:3\n",
      "Enter Second Number:3\n",
      "1.Addition\n",
      "2.Subtraction\n",
      "3.Multiplication\n",
      "4.Division\n",
      "Choose an Option:1\n",
      "Sum: 6\n"
     ]
    }
   ],
   "source": [
    "# Program to implement simple calculator using python.\n",
    "a=int(input(\"Enter First Number:\"))\n",
    "b=int(input(\"Enter Second Number:\"))\n",
    "print(\"1.Addition\")\n",
    "print(\"2.Subtraction\")\n",
    "print(\"3.Multiplication\")\n",
    "print(\"4.Division\")\n",
    "option=int(input(\"Choose an Option:\"))\n",
    "if(option==1):\n",
    "    print(\"Sum:\",a+b)\n",
    "elif(option==2):\n",
    "    print(\"Difference:\",a-b)\n",
    "elif(option==3):\n",
    "    print(\"Product:\",a*b)\n",
    "elif(option==4):\n",
    "    print(\"Division:\",a/b)\n",
    "else:\n",
    "    print(\"Invalid\")"
   ]
  },
  {
   "cell_type": "code",
   "execution_count": null,
   "metadata": {},
   "outputs": [],
   "source": []
  }
 ],
 "metadata": {
  "kernelspec": {
   "display_name": "Python 3",
   "language": "python",
   "name": "python3"
  },
  "language_info": {
   "codemirror_mode": {
    "name": "ipython",
    "version": 3
   },
   "file_extension": ".py",
   "mimetype": "text/x-python",
   "name": "python",
   "nbconvert_exporter": "python",
   "pygments_lexer": "ipython3",
   "version": "3.8.5"
  }
 },
 "nbformat": 4,
 "nbformat_minor": 4
}
