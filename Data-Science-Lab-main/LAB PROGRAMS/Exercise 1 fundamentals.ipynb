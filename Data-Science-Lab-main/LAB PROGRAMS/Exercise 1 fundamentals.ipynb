{
 "cells": [
  {
   "cell_type": "code",
   "execution_count": 5,
   "metadata": {},
   "outputs": [
    {
     "name": "stdout",
     "output_type": "stream",
     "text": [
      "Sum: 12\n",
      "Difference: 6\n",
      "Product: 27\n",
      "Division: 3.0\n"
     ]
    }
   ],
   "source": [
    "a=9\n",
    "b=3\n",
    "c=a+b\n",
    "print(\"Sum:\",c)\n",
    "print(\"Difference:\",a-b)\n",
    "print(\"Product:\",a*b)\n",
    "print(\"Division:\",a/b)"
   ]
  },
  {
   "cell_type": "code",
   "execution_count": 13,
   "metadata": {},
   "outputs": [
    {
     "name": "stdout",
     "output_type": "stream",
     "text": [
      "Enter First Number:3\n",
      "Enter Second Number:4\n",
      "4 is greater\n"
     ]
    }
   ],
   "source": [
    "a=int(input(\"Enter First Number:\"))\n",
    "b=int(input(\"Enter Second Number:\"))\n",
    "if a>b:\n",
    "    print(a,\"is greater\")\n",
    "else:\n",
    "    print(b,\"is greater\")"
   ]
  },
  {
   "cell_type": "code",
   "execution_count": 14,
   "metadata": {},
   "outputs": [
    {
     "name": "stdout",
     "output_type": "stream",
     "text": [
      "Enter First Number:3\n",
      "Enter Second Number:9\n",
      "Enter Third Number:6\n",
      "9 is greater\n"
     ]
    }
   ],
   "source": [
    "a=int(input(\"Enter First Number:\"))\n",
    "b=int(input(\"Enter Second Number:\"))\n",
    "c=int(input(\"Enter Third Number:\"))\n",
    "if(a>b and a>c):\n",
    "    print(a,\"is greater\")\n",
    "elif(b>a and b>c):\n",
    "    print(b,\"is greater\")\n",
    "else:\n",
    "    print(c,\"is greater\")"
   ]
  },
  {
   "cell_type": "code",
   "execution_count": 31,
   "metadata": {},
   "outputs": [
    {
     "name": "stdout",
     "output_type": "stream",
     "text": [
      "List is: ['1', 'wow', '3', 'hello']\n",
      "Modified list: ['1', 'wow', '3', 'hello', 'welcome']\n",
      "List after removing elements: ['1', 'wow', '3', 'hello']\n",
      "list after inserting element in third position: ['1', 'wow', '3', 'cool', 'hello']\n",
      "Length of list is: 5\n"
     ]
    }
   ],
   "source": [
    "a=['1','wow','3','hello']\n",
    "print(\"List is:\",a)\n",
    "a.append(\"welcome\")\n",
    "print(\"Modified list:\",a)\n",
    "a.remove('welcome')\n",
    "print(\"List after removing elements:\",a)\n",
    "a.insert(3,'cool')\n",
    "print(\"list after inserting element in third position:\",a)\n",
    "print(\"Length of list is:\",len(a))"
   ]
  },
  {
   "cell_type": "code",
   "execution_count": 30,
   "metadata": {},
   "outputs": [
    {
     "name": "stdout",
     "output_type": "stream",
     "text": [
      "['2', 'hello', '6', 'hii']\n",
      "3\n",
      "['hii', 'welcome', '3']\n"
     ]
    }
   ],
   "source": [
    "a=['1','2','hello','6','hii','welcome','3']\n",
    "print(a[1:5])\n",
    "print(a[-1])\n",
    "print(a[-3: ])"
   ]
  },
  {
   "cell_type": "code",
   "execution_count": 24,
   "metadata": {},
   "outputs": [
    {
     "name": "stdout",
     "output_type": "stream",
     "text": [
      "('1', '2', '3', '4', 'hii')\n"
     ]
    }
   ],
   "source": [
    "a=('1','2','3','4','hii')\n",
    "print(a)"
   ]
  },
  {
   "cell_type": "code",
   "execution_count": 27,
   "metadata": {},
   "outputs": [
    {
     "name": "stdout",
     "output_type": "stream",
     "text": [
      "Riya\n"
     ]
    }
   ],
   "source": [
    "a={'name':'Riya','age':22,'city':'calicut'}\n",
    "print(a['name'])"
   ]
  },
  {
   "cell_type": "code",
   "execution_count": 28,
   "metadata": {},
   "outputs": [
    {
     "name": "stdout",
     "output_type": "stream",
     "text": [
      "7\n"
     ]
    }
   ],
   "source": [
    "def sum(a,b):\n",
    "    c=a+b\n",
    "    return c\n",
    "print(sum(3,4))"
   ]
  },
  {
   "cell_type": "code",
   "execution_count": 33,
   "metadata": {},
   "outputs": [
    {
     "name": "stdout",
     "output_type": "stream",
     "text": [
      "2\n",
      "3\n",
      "4\n",
      "5\n"
     ]
    }
   ],
   "source": [
    "for i in range(2,6):\n",
    "    print(i)"
   ]
  },
  {
   "cell_type": "code",
   "execution_count": 34,
   "metadata": {},
   "outputs": [
    {
     "name": "stdout",
     "output_type": "stream",
     "text": [
      "['welcome', 'to', 'mca']\n"
     ]
    }
   ],
   "source": [
    "a=\"welcome to mca\"\n",
    "print(a.split())"
   ]
  },
  {
   "cell_type": "code",
   "execution_count": 42,
   "metadata": {},
   "outputs": [
    {
     "name": "stdout",
     "output_type": "stream",
     "text": [
      "Set union: {1, 2, 3, 4, 5, 6, 7, 8, 9, 10, 11, 12}\n",
      "Set Intersection: {3, 4}\n",
      "Set clear: None\n"
     ]
    }
   ],
   "source": [
    "a={1,2,3,4,5,6,7,8}\n",
    "b={9,3,4,10,11,12}\n",
    "print(\"Set union:\",a.union(b))\n",
    "print(\"Set Intersection:\",a.intersection(b))\n",
    "print(\"Set clear:\",a.clear())"
   ]
  },
  {
   "cell_type": "code",
   "execution_count": null,
   "metadata": {
    "collapsed": true
   },
   "outputs": [],
   "source": []
  }
 ],
 "metadata": {
  "kernelspec": {
   "display_name": "Python 3",
   "language": "python",
   "name": "python3"
  },
  "language_info": {
   "codemirror_mode": {
    "name": "ipython",
    "version": 3
   },
   "file_extension": ".py",
   "mimetype": "text/x-python",
   "name": "python",
   "nbconvert_exporter": "python",
   "pygments_lexer": "ipython3",
   "version": "3.6.3"
  }
 },
 "nbformat": 4,
 "nbformat_minor": 2
}
