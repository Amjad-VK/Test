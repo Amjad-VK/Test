{
 "cells": [
  {
   "cell_type": "code",
   "execution_count": 6,
   "metadata": {},
   "outputs": [
    {
     "name": "stdout",
     "output_type": "stream",
     "text": [
      "Mean: 3.0\n",
      "Median: 3.0\n",
      "Variance: 2.0\n",
      "Standard Deviation: 1.41421356237\n"
     ]
    }
   ],
   "source": [
    "#Mean,Median,Variance and Standard Deviation\n",
    "import numpy as np\n",
    "a=np.array([1,2,3,4,5])\n",
    "print(\"Mean:\",np.mean(a))\n",
    "print(\"Median:\",np.median(a))\n",
    "print(\"Variance:\",np.var(a))\n",
    "print(\"Standard Deviation:\",np.std(a))"
   ]
  },
  {
   "cell_type": "code",
   "execution_count": 5,
   "metadata": {},
   "outputs": [
    {
     "name": "stdout",
     "output_type": "stream",
     "text": [
      "Sorted Array: [1 2 3 4 5 6]\n"
     ]
    }
   ],
   "source": [
    "#sort elements in array\n",
    "a=[5,3,4,2,6,1]\n",
    "print(\"Sorted Array:\",np.sort(a))"
   ]
  },
  {
   "cell_type": "code",
   "execution_count": 7,
   "metadata": {},
   "outputs": [
    {
     "name": "stdout",
     "output_type": "stream",
     "text": [
      "Sum: 15\n"
     ]
    }
   ],
   "source": [
    "#sum of elements in array\n",
    "a=[1,2,3,4,5]\n",
    "print(\"Sum:\",np.sum(a))"
   ]
  },
  {
   "cell_type": "code",
   "execution_count": 9,
   "metadata": {},
   "outputs": [
    {
     "name": "stdout",
     "output_type": "stream",
     "text": [
      "After Adding: [3 5 7 9]\n"
     ]
    }
   ],
   "source": [
    "#add elements of two array\n",
    "a=[1,2,3,4]\n",
    "b=[2,3,4,5]\n",
    "print(\"After Adding:\",np.add(a,b))"
   ]
  },
  {
   "cell_type": "code",
   "execution_count": 15,
   "metadata": {},
   "outputs": [
    {
     "name": "stdout",
     "output_type": "stream",
     "text": [
      "[1 2 3 4 5]\n",
      "Result: (array([2, 3, 4]),)\n"
     ]
    }
   ],
   "source": [
    "#where condition\n",
    "a=np.array([1,2,3,4,5])\n",
    "print(a)\n",
    "print(\"Result:\",np.where(a>2))"
   ]
  },
  {
   "cell_type": "code",
   "execution_count": 17,
   "metadata": {},
   "outputs": [
    {
     "name": "stdout",
     "output_type": "stream",
     "text": [
      "sin: [ 0.84147098  0.90929743  0.14112001]\n",
      "cos: [ 0.54030231 -0.41614684 -0.9899925 ]\n"
     ]
    }
   ],
   "source": [
    "#sin and cos\n",
    "a=[1,2,3]\n",
    "print(\"sin:\",np.sin(a))\n",
    "print(\"cos:\",np.cos(a))"
   ]
  },
  {
   "cell_type": "code",
   "execution_count": 23,
   "metadata": {},
   "outputs": [
    {
     "name": "stdout",
     "output_type": "stream",
     "text": [
      "[[0 1]\n",
      " [2 3]]\n",
      "[[-1.5  0.5]\n",
      " [ 1.   0. ]]\n"
     ]
    }
   ],
   "source": [
    "#inverse\n",
    "import scipy.linalg\n",
    "a=np.arange(4).reshape(2,2)\n",
    "print(a)\n",
    "print(scipy.linalg.inv(a))"
   ]
  },
  {
   "cell_type": "code",
   "execution_count": 24,
   "metadata": {},
   "outputs": [
    {
     "name": "stdout",
     "output_type": "stream",
     "text": [
      "[[0 2]\n",
      " [1 3]]\n"
     ]
    }
   ],
   "source": [
    "#swapaxes\n",
    "a=np.arange(4).reshape(2,2)\n",
    "print(np.swapaxes(a,0,1))"
   ]
  },
  {
   "cell_type": "code",
   "execution_count": 25,
   "metadata": {},
   "outputs": [
    {
     "name": "stdout",
     "output_type": "stream",
     "text": [
      "[[0 2]\n",
      " [1 3]]\n"
     ]
    }
   ],
   "source": [
    "#rollaxis\n",
    "a=np.arange(4).reshape(2,2)\n",
    "print(np.rollaxis(a,1))"
   ]
  },
  {
   "cell_type": "code",
   "execution_count": 21,
   "metadata": {},
   "outputs": [
    {
     "data": {
      "image/png": "[encoded data removed]",
      "text/plain": [
       "<matplotlib.figure.Figure at 0x7ff2a943a0f0>"
      ]
     },
     "metadata": {},
     "output_type": "display_data"
    }
   ],
   "source": [
    "#To plot a graph\n",
    "from matplotlib import pyplot as plt\n",
    "a=[1,2,3,4]\n",
    "plt.plot(a)\n",
    "plt.show()"
   ]
  },
  {
   "cell_type": "code",
   "execution_count": 4,
   "metadata": {},
   "outputs": [
    {
     "data": {
      "image/png": "[encoded data removed]",
      "text/plain": [
       "<matplotlib.figure.Figure at 0x7f3feaba4c50>"
      ]
     },
     "metadata": {},
     "output_type": "display_data"
    }
   ],
   "source": [
    "#Plot a graph with x and y array values\n",
    "import numpy as np\n",
    "from matplotlib import pyplot as pt\n",
    "x=np.arange(0,10,0.1)\n",
    "y=np.sin(x)\n",
    "pt.plot(x,y)\n",
    "pt.xlabel(\"x axis\")\n",
    "pt.ylabel(\"y axis\")\n",
    "pt.title(\"sin graph\")\n",
    "pt.show()"
   ]
  },
  {
   "cell_type": "code",
   "execution_count": 6,
   "metadata": {},
   "outputs": [
    {
     "data": {
      "image/png": "[encoded data removed]",
      "text/plain": [
       "<matplotlib.figure.Figure at 0x7f3fe3a51198>"
      ]
     },
     "metadata": {},
     "output_type": "display_data"
    }
   ],
   "source": [
    "pt.scatter(x,y)\n",
    "pt.show()"
   ]
  },
  {
   "cell_type": "code",
   "execution_count": 8,
   "metadata": {},
   "outputs": [
    {
     "data": {
      "image/png": "[encoded data removed]",
      "text/plain": [
       "<matplotlib.figure.Figure at 0x7f3fe3a1a048>"
      ]
     },
     "metadata": {},
     "output_type": "display_data"
    }
   ],
   "source": [
    "#To color\n",
    "pt.plot(x,y,'b+')\n",
    "pt.show()"
   ]
  },
  {
   "cell_type": "code",
   "execution_count": null,
   "metadata": {
    "collapsed": true
   },
   "outputs": [],
   "source": []
  }
 ],
 "metadata": {
  "kernelspec": {
   "display_name": "Python 3",
   "language": "python",
   "name": "python3"
  },
  "language_info": {
   "codemirror_mode": {
    "name": "ipython",
    "version": 3
   },
   "file_extension": ".py",
   "mimetype": "text/x-python",
   "name": "python",
   "nbconvert_exporter": "python",
   "pygments_lexer": "ipython3",
   "version": "3.6.3"
  }
 },
 "nbformat": 4,
 "nbformat_minor": 2
}
